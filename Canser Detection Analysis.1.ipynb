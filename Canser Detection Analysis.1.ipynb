{
 "cells": [
  {
   "cell_type": "markdown",
   "metadata": {},
   "source": [
    "### IMPORT LIBRARY"
   ]
  },
  {
   "cell_type": "code",
   "execution_count": 8,
   "metadata": {},
   "outputs": [],
   "source": [
    "import pandas as pd\n",
    "import numpy as np\n",
    "import matplotlib.pyplot as plt\n"
   ]
  },
  {
   "cell_type": "markdown",
   "metadata": {},
   "source": [
    "### IMPORT DATASET"
   ]
  },
  {
   "cell_type": "code",
   "execution_count": 9,
   "metadata": {},
   "outputs": [],
   "source": [
    "df_train = pd.read_csv(r\"C:\\Users\\Keyur Chaudhari\\Downloads\\train_brain.csv\")\n",
    "df_test = pd.read_csv(r\"C:\\Users\\Keyur Chaudhari\\Downloads\\test_brain.csv\")"
   ]
  },
  {
   "cell_type": "code",
   "execution_count": 10,
   "metadata": {},
   "outputs": [
    {
     "data": {
      "text/html": [
       "<div>\n",
       "<style scoped>\n",
       "    .dataframe tbody tr th:only-of-type {\n",
       "        vertical-align: middle;\n",
       "    }\n",
       "\n",
       "    .dataframe tbody tr th {\n",
       "        vertical-align: top;\n",
       "    }\n",
       "\n",
       "    .dataframe thead th {\n",
       "        text-align: right;\n",
       "    }\n",
       "</style>\n",
       "<table border=\"1\" class=\"dataframe\">\n",
       "  <thead>\n",
       "    <tr style=\"text-align: right;\">\n",
       "      <th></th>\n",
       "      <th>1</th>\n",
       "      <th>2</th>\n",
       "      <th>3</th>\n",
       "      <th>4</th>\n",
       "      <th>5</th>\n",
       "      <th>6</th>\n",
       "      <th>7</th>\n",
       "      <th>8</th>\n",
       "      <th>9</th>\n",
       "      <th>10</th>\n",
       "      <th>...</th>\n",
       "      <th>93</th>\n",
       "      <th>94</th>\n",
       "      <th>95</th>\n",
       "      <th>96</th>\n",
       "      <th>97</th>\n",
       "      <th>98</th>\n",
       "      <th>99</th>\n",
       "      <th>100</th>\n",
       "      <th>101</th>\n",
       "      <th>target</th>\n",
       "    </tr>\n",
       "  </thead>\n",
       "  <tbody>\n",
       "    <tr>\n",
       "      <th>0</th>\n",
       "      <td>1.250042</td>\n",
       "      <td>19.145029</td>\n",
       "      <td>C</td>\n",
       "      <td>9.584353</td>\n",
       "      <td>34.984717</td>\n",
       "      <td>7.027265</td>\n",
       "      <td>6.689411</td>\n",
       "      <td>36.111964</td>\n",
       "      <td>4.899921</td>\n",
       "      <td>23.910874</td>\n",
       "      <td>...</td>\n",
       "      <td>7.525531</td>\n",
       "      <td>13.317211</td>\n",
       "      <td>26.600325</td>\n",
       "      <td>L</td>\n",
       "      <td>5.774739</td>\n",
       "      <td>3.040639</td>\n",
       "      <td>0</td>\n",
       "      <td>11.309413</td>\n",
       "      <td>0.995232</td>\n",
       "      <td>1</td>\n",
       "    </tr>\n",
       "    <tr>\n",
       "      <th>1</th>\n",
       "      <td>2.970214</td>\n",
       "      <td>27.764929</td>\n",
       "      <td>C</td>\n",
       "      <td>20.236078</td>\n",
       "      <td>38.657649</td>\n",
       "      <td>10.392102</td>\n",
       "      <td>11.340814</td>\n",
       "      <td>47.482511</td>\n",
       "      <td>5.879906</td>\n",
       "      <td>24.805936</td>\n",
       "      <td>...</td>\n",
       "      <td>9.533020</td>\n",
       "      <td>4.681385</td>\n",
       "      <td>44.953855</td>\n",
       "      <td>CG</td>\n",
       "      <td>5.930394</td>\n",
       "      <td>8.292149</td>\n",
       "      <td>0</td>\n",
       "      <td>2.363188</td>\n",
       "      <td>6.675311</td>\n",
       "      <td>1</td>\n",
       "    </tr>\n",
       "    <tr>\n",
       "      <th>2</th>\n",
       "      <td>3.135308</td>\n",
       "      <td>32.574846</td>\n",
       "      <td>C</td>\n",
       "      <td>10.915899</td>\n",
       "      <td>32.318764</td>\n",
       "      <td>6.779047</td>\n",
       "      <td>7.626425</td>\n",
       "      <td>35.991821</td>\n",
       "      <td>3.919938</td>\n",
       "      <td>24.728131</td>\n",
       "      <td>...</td>\n",
       "      <td>6.145599</td>\n",
       "      <td>12.953741</td>\n",
       "      <td>28.016364</td>\n",
       "      <td>BU</td>\n",
       "      <td>6.049601</td>\n",
       "      <td>10.440941</td>\n",
       "      <td>0</td>\n",
       "      <td>9.620541</td>\n",
       "      <td>2.573866</td>\n",
       "      <td>0</td>\n",
       "    </tr>\n",
       "    <tr>\n",
       "      <th>3</th>\n",
       "      <td>4.277058</td>\n",
       "      <td>47.738345</td>\n",
       "      <td>C</td>\n",
       "      <td>16.489040</td>\n",
       "      <td>39.429322</td>\n",
       "      <td>6.935775</td>\n",
       "      <td>10.205494</td>\n",
       "      <td>38.813908</td>\n",
       "      <td>5.798239</td>\n",
       "      <td>26.308526</td>\n",
       "      <td>...</td>\n",
       "      <td>9.026123</td>\n",
       "      <td>7.586292</td>\n",
       "      <td>29.856851</td>\n",
       "      <td>AN</td>\n",
       "      <td>5.166861</td>\n",
       "      <td>13.376133</td>\n",
       "      <td>1</td>\n",
       "      <td>4.444706</td>\n",
       "      <td>5.679290</td>\n",
       "      <td>1</td>\n",
       "    </tr>\n",
       "    <tr>\n",
       "      <th>4</th>\n",
       "      <td>4.473978</td>\n",
       "      <td>16.115129</td>\n",
       "      <td>NaN</td>\n",
       "      <td>10.403431</td>\n",
       "      <td>38.915410</td>\n",
       "      <td>7.852578</td>\n",
       "      <td>6.757196</td>\n",
       "      <td>23.161443</td>\n",
       "      <td>5.879904</td>\n",
       "      <td>23.663073</td>\n",
       "      <td>...</td>\n",
       "      <td>8.286800</td>\n",
       "      <td>9.337974</td>\n",
       "      <td>17.419744</td>\n",
       "      <td>B</td>\n",
       "      <td>6.444625</td>\n",
       "      <td>6.748303</td>\n",
       "      <td>0</td>\n",
       "      <td>8.737056</td>\n",
       "      <td>4.564449</td>\n",
       "      <td>0</td>\n",
       "    </tr>\n",
       "  </tbody>\n",
       "</table>\n",
       "<p>5 rows × 102 columns</p>\n",
       "</div>"
      ],
      "text/plain": [
       "          1          2    3          4          5          6          7  \\\n",
       "0  1.250042  19.145029    C   9.584353  34.984717   7.027265   6.689411   \n",
       "1  2.970214  27.764929    C  20.236078  38.657649  10.392102  11.340814   \n",
       "2  3.135308  32.574846    C  10.915899  32.318764   6.779047   7.626425   \n",
       "3  4.277058  47.738345    C  16.489040  39.429322   6.935775  10.205494   \n",
       "4  4.473978  16.115129  NaN  10.403431  38.915410   7.852578   6.757196   \n",
       "\n",
       "           8         9         10  ...        93         94         95  96  \\\n",
       "0  36.111964  4.899921  23.910874  ...  7.525531  13.317211  26.600325   L   \n",
       "1  47.482511  5.879906  24.805936  ...  9.533020   4.681385  44.953855  CG   \n",
       "2  35.991821  3.919938  24.728131  ...  6.145599  12.953741  28.016364  BU   \n",
       "3  38.813908  5.798239  26.308526  ...  9.026123   7.586292  29.856851  AN   \n",
       "4  23.161443  5.879904  23.663073  ...  8.286800   9.337974  17.419744   B   \n",
       "\n",
       "         97         98  99        100       101  target  \n",
       "0  5.774739   3.040639   0  11.309413  0.995232       1  \n",
       "1  5.930394   8.292149   0   2.363188  6.675311       1  \n",
       "2  6.049601  10.440941   0   9.620541  2.573866       0  \n",
       "3  5.166861  13.376133   1   4.444706  5.679290       1  \n",
       "4  6.444625   6.748303   0   8.737056  4.564449       0  \n",
       "\n",
       "[5 rows x 102 columns]"
      ]
     },
     "execution_count": 10,
     "metadata": {},
     "output_type": "execute_result"
    }
   ],
   "source": [
    "df_train.head()"
   ]
  },
  {
   "cell_type": "code",
   "execution_count": 11,
   "metadata": {},
   "outputs": [
    {
     "data": {
      "text/html": [
       "<div>\n",
       "<style scoped>\n",
       "    .dataframe tbody tr th:only-of-type {\n",
       "        vertical-align: middle;\n",
       "    }\n",
       "\n",
       "    .dataframe tbody tr th {\n",
       "        vertical-align: top;\n",
       "    }\n",
       "\n",
       "    .dataframe thead th {\n",
       "        text-align: right;\n",
       "    }\n",
       "</style>\n",
       "<table border=\"1\" class=\"dataframe\">\n",
       "  <thead>\n",
       "    <tr style=\"text-align: right;\">\n",
       "      <th></th>\n",
       "      <th>1</th>\n",
       "      <th>2</th>\n",
       "      <th>3</th>\n",
       "      <th>4</th>\n",
       "      <th>5</th>\n",
       "      <th>6</th>\n",
       "      <th>7</th>\n",
       "      <th>8</th>\n",
       "      <th>9</th>\n",
       "      <th>10</th>\n",
       "      <th>...</th>\n",
       "      <th>92</th>\n",
       "      <th>93</th>\n",
       "      <th>94</th>\n",
       "      <th>95</th>\n",
       "      <th>96</th>\n",
       "      <th>97</th>\n",
       "      <th>98</th>\n",
       "      <th>99</th>\n",
       "      <th>100</th>\n",
       "      <th>101</th>\n",
       "    </tr>\n",
       "  </thead>\n",
       "  <tbody>\n",
       "    <tr>\n",
       "      <th>0</th>\n",
       "      <td>NaN</td>\n",
       "      <td>NaN</td>\n",
       "      <td>C</td>\n",
       "      <td>NaN</td>\n",
       "      <td>NaN</td>\n",
       "      <td>NaN</td>\n",
       "      <td>NaN</td>\n",
       "      <td>NaN</td>\n",
       "      <td>2.858289</td>\n",
       "      <td>22.872606</td>\n",
       "      <td>...</td>\n",
       "      <td>41.899637</td>\n",
       "      <td>NaN</td>\n",
       "      <td>NaN</td>\n",
       "      <td>NaN</td>\n",
       "      <td>BY</td>\n",
       "      <td>NaN</td>\n",
       "      <td>NaN</td>\n",
       "      <td>0</td>\n",
       "      <td>NaN</td>\n",
       "      <td>NaN</td>\n",
       "    </tr>\n",
       "    <tr>\n",
       "      <th>1</th>\n",
       "      <td>NaN</td>\n",
       "      <td>NaN</td>\n",
       "      <td>C</td>\n",
       "      <td>NaN</td>\n",
       "      <td>NaN</td>\n",
       "      <td>NaN</td>\n",
       "      <td>NaN</td>\n",
       "      <td>NaN</td>\n",
       "      <td>8.738194</td>\n",
       "      <td>26.296159</td>\n",
       "      <td>...</td>\n",
       "      <td>55.246190</td>\n",
       "      <td>NaN</td>\n",
       "      <td>NaN</td>\n",
       "      <td>NaN</td>\n",
       "      <td>AL</td>\n",
       "      <td>NaN</td>\n",
       "      <td>NaN</td>\n",
       "      <td>5</td>\n",
       "      <td>NaN</td>\n",
       "      <td>NaN</td>\n",
       "    </tr>\n",
       "    <tr>\n",
       "      <th>2</th>\n",
       "      <td>4.822627</td>\n",
       "      <td>62.035349</td>\n",
       "      <td>C</td>\n",
       "      <td>17.221968</td>\n",
       "      <td>34.359474</td>\n",
       "      <td>6.256383</td>\n",
       "      <td>14.685122</td>\n",
       "      <td>29.071144</td>\n",
       "      <td>2.858290</td>\n",
       "      <td>23.710044</td>\n",
       "      <td>...</td>\n",
       "      <td>52.866471</td>\n",
       "      <td>11.035802</td>\n",
       "      <td>8.069421</td>\n",
       "      <td>26.714029</td>\n",
       "      <td>Z</td>\n",
       "      <td>8.496149</td>\n",
       "      <td>10.101453</td>\n",
       "      <td>0</td>\n",
       "      <td>2.650018</td>\n",
       "      <td>7.464216</td>\n",
       "    </tr>\n",
       "    <tr>\n",
       "      <th>3</th>\n",
       "      <td>NaN</td>\n",
       "      <td>NaN</td>\n",
       "      <td>C</td>\n",
       "      <td>NaN</td>\n",
       "      <td>NaN</td>\n",
       "      <td>NaN</td>\n",
       "      <td>NaN</td>\n",
       "      <td>NaN</td>\n",
       "      <td>4.899923</td>\n",
       "      <td>24.748312</td>\n",
       "      <td>...</td>\n",
       "      <td>53.895298</td>\n",
       "      <td>NaN</td>\n",
       "      <td>NaN</td>\n",
       "      <td>NaN</td>\n",
       "      <td>K</td>\n",
       "      <td>NaN</td>\n",
       "      <td>NaN</td>\n",
       "      <td>0</td>\n",
       "      <td>NaN</td>\n",
       "      <td>NaN</td>\n",
       "    </tr>\n",
       "    <tr>\n",
       "      <th>4</th>\n",
       "      <td>1.180241</td>\n",
       "      <td>38.502306</td>\n",
       "      <td>C</td>\n",
       "      <td>15.416981</td>\n",
       "      <td>50.397244</td>\n",
       "      <td>8.867742</td>\n",
       "      <td>7.623702</td>\n",
       "      <td>38.487347</td>\n",
       "      <td>6.778222</td>\n",
       "      <td>25.997673</td>\n",
       "      <td>...</td>\n",
       "      <td>57.223004</td>\n",
       "      <td>5.746962</td>\n",
       "      <td>4.834523</td>\n",
       "      <td>34.599740</td>\n",
       "      <td>AF</td>\n",
       "      <td>4.574367</td>\n",
       "      <td>8.851788</td>\n",
       "      <td>0</td>\n",
       "      <td>3.435413</td>\n",
       "      <td>2.714263</td>\n",
       "    </tr>\n",
       "  </tbody>\n",
       "</table>\n",
       "<p>5 rows × 101 columns</p>\n",
       "</div>"
      ],
      "text/plain": [
       "          1          2  3          4          5         6          7  \\\n",
       "0       NaN        NaN  C        NaN        NaN       NaN        NaN   \n",
       "1       NaN        NaN  C        NaN        NaN       NaN        NaN   \n",
       "2  4.822627  62.035349  C  17.221968  34.359474  6.256383  14.685122   \n",
       "3       NaN        NaN  C        NaN        NaN       NaN        NaN   \n",
       "4  1.180241  38.502306  C  15.416981  50.397244  8.867742   7.623702   \n",
       "\n",
       "           8         9         10  ...         92         93        94  \\\n",
       "0        NaN  2.858289  22.872606  ...  41.899637        NaN       NaN   \n",
       "1        NaN  8.738194  26.296159  ...  55.246190        NaN       NaN   \n",
       "2  29.071144  2.858290  23.710044  ...  52.866471  11.035802  8.069421   \n",
       "3        NaN  4.899923  24.748312  ...  53.895298        NaN       NaN   \n",
       "4  38.487347  6.778222  25.997673  ...  57.223004   5.746962  4.834523   \n",
       "\n",
       "          95  96        97         98 99       100       101  \n",
       "0        NaN  BY       NaN        NaN  0       NaN       NaN  \n",
       "1        NaN  AL       NaN        NaN  5       NaN       NaN  \n",
       "2  26.714029   Z  8.496149  10.101453  0  2.650018  7.464216  \n",
       "3        NaN   K       NaN        NaN  0       NaN       NaN  \n",
       "4  34.599740  AF  4.574367   8.851788  0  3.435413  2.714263  \n",
       "\n",
       "[5 rows x 101 columns]"
      ]
     },
     "execution_count": 11,
     "metadata": {},
     "output_type": "execute_result"
    }
   ],
   "source": [
    "df_test.head()"
   ]
  },
  {
   "cell_type": "markdown",
   "metadata": {},
   "source": [
    "### EXPLORE DATA"
   ]
  },
  {
   "cell_type": "code",
   "execution_count": 12,
   "metadata": {},
   "outputs": [
    {
     "name": "stdout",
     "output_type": "stream",
     "text": [
      "<class 'pandas.core.frame.DataFrame'>\n",
      "RangeIndex: 60590 entries, 0 to 60589\n",
      "Columns: 102 entries, 1 to target\n",
      "dtypes: float64(80), int64(5), object(17)\n",
      "memory usage: 47.2+ MB\n"
     ]
    }
   ],
   "source": [
    "df_train.info()"
   ]
  },
  {
   "cell_type": "code",
   "execution_count": 13,
   "metadata": {},
   "outputs": [
    {
     "data": {
      "text/plain": [
       "(60590, 102)"
      ]
     },
     "execution_count": 13,
     "metadata": {},
     "output_type": "execute_result"
    }
   ],
   "source": [
    "df_train.shape\n"
   ]
  },
  {
   "cell_type": "code",
   "execution_count": 14,
   "metadata": {},
   "outputs": [
    {
     "data": {
      "text/plain": [
       "(53731, 101)"
      ]
     },
     "execution_count": 14,
     "metadata": {},
     "output_type": "execute_result"
    }
   ],
   "source": [
    "df_test.shape"
   ]
  },
  {
   "cell_type": "code",
   "execution_count": 15,
   "metadata": {},
   "outputs": [
    {
     "data": {
      "text/plain": [
       "array([dtype('float64'), dtype('float64'), dtype('O'), dtype('float64'),\n",
       "       dtype('float64'), dtype('float64'), dtype('float64'),\n",
       "       dtype('float64'), dtype('float64'), dtype('float64'),\n",
       "       dtype('float64'), dtype('float64'), dtype('float64'),\n",
       "       dtype('float64'), dtype('float64'), dtype('float64'),\n",
       "       dtype('float64'), dtype('O'), dtype('O'), dtype('float64'),\n",
       "       dtype('float64'), dtype('float64'), dtype('float64'), dtype('O'),\n",
       "       dtype('float64'), dtype('float64'), dtype('float64'),\n",
       "       dtype('float64'), dtype('float64'), dtype('int64'),\n",
       "       dtype('float64'), dtype('float64'), dtype('float64'),\n",
       "       dtype('float64'), dtype('float64'), dtype('float64'),\n",
       "       dtype('float64'), dtype('O'), dtype('float64'), dtype('float64'),\n",
       "       dtype('float64'), dtype('float64'), dtype('O'), dtype('float64'),\n",
       "       dtype('O'), dtype('float64'), dtype('float64'), dtype('float64'),\n",
       "       dtype('float64'), dtype('float64'), dtype('int64'),\n",
       "       dtype('float64'), dtype('O'), dtype('float64'), dtype('float64'),\n",
       "       dtype('float64'), dtype('O'), dtype('int64'), dtype('float64'),\n",
       "       dtype('O'), dtype('O'), dtype('float64'), dtype('float64'),\n",
       "       dtype('float64'), dtype('O'), dtype('float64'), dtype('float64'),\n",
       "       dtype('float64'), dtype('float64'), dtype('float64'),\n",
       "       dtype('float64'), dtype('float64'), dtype('O'), dtype('float64'),\n",
       "       dtype('float64'), dtype('float64'), dtype('float64'),\n",
       "       dtype('float64'), dtype('float64'), dtype('float64'),\n",
       "       dtype('float64'), dtype('float64'), dtype('float64'),\n",
       "       dtype('float64'), dtype('float64'), dtype('float64'), dtype('O'),\n",
       "       dtype('float64'), dtype('O'), dtype('float64'), dtype('O'),\n",
       "       dtype('float64'), dtype('float64'), dtype('float64'),\n",
       "       dtype('float64'), dtype('O'), dtype('float64'), dtype('float64'),\n",
       "       dtype('int64'), dtype('float64'), dtype('float64'), dtype('int64')],\n",
       "      dtype=object)"
      ]
     },
     "execution_count": 15,
     "metadata": {},
     "output_type": "execute_result"
    }
   ],
   "source": [
    "df_train.dtypes.values"
   ]
  },
  {
   "cell_type": "markdown",
   "metadata": {},
   "source": [
    "### CLEANING DATA"
   ]
  },
  {
   "cell_type": "code",
   "execution_count": 16,
   "metadata": {},
   "outputs": [
    {
     "data": {
      "text/plain": [
       "(60590, 102)"
      ]
     },
     "execution_count": 16,
     "metadata": {},
     "output_type": "execute_result"
    }
   ],
   "source": [
    "df_train.shape"
   ]
  },
  {
   "cell_type": "code",
   "execution_count": 17,
   "metadata": {},
   "outputs": [
    {
     "data": {
      "text/plain": [
       "1         26328\n",
       "2         26308\n",
       "3          1892\n",
       "4         26308\n",
       "5         25693\n",
       "          ...  \n",
       "98        26328\n",
       "99            0\n",
       "100       26329\n",
       "101       26364\n",
       "target        0\n",
       "Length: 102, dtype: int64"
      ]
     },
     "execution_count": 17,
     "metadata": {},
     "output_type": "execute_result"
    }
   ],
   "source": [
    "df_train.isnull().sum()"
   ]
  },
  {
   "cell_type": "code",
   "execution_count": 18,
   "metadata": {},
   "outputs": [],
   "source": [
    "df_train['3'] = df_train['3'].astype(str)\n",
    "df_train['18'] = df_train['18'].astype(str)\n",
    "df_train['19'] = df_train['19'].astype(str)\n",
    "df_train['24'] = df_train['24'].astype(str)\n",
    "df_train['38'] = df_train['38'].astype(str)\n",
    "df_train['43'] = df_train['43'].astype(str)\n",
    "df_train['45'] = df_train['45'].astype(str)\n",
    "df_train['57'] = df_train['57'].astype(str)\n",
    "df_train['53'] = df_train['53'].astype(str)\n",
    "df_train['60'] = df_train['60'].astype(str)\n",
    "df_train['61'] = df_train['61'].astype(str)\n",
    "df_train['65'] = df_train['65'].astype(str)\n",
    "df_train['73'] = df_train['73'].astype(str)\n",
    "df_train['87'] = df_train['87'].astype(str)\n",
    "df_train['89'] = df_train['89'].astype(str)\n",
    "df_train['91'] = df_train['91'].astype(str)\n",
    "df_train['96'] = df_train['96'].astype(str)"
   ]
  },
  {
   "cell_type": "code",
   "execution_count": 19,
   "metadata": {},
   "outputs": [],
   "source": [
    "from sklearn.preprocessing import LabelEncoder\n",
    "labelencoder_y = LabelEncoder()\n",
    "df_train['3']=labelencoder_y.fit_transform(df_train['3'].values)\n",
    "df_train['18']=labelencoder_y.fit_transform(df_train['18'].values)\n",
    "df_train['19']=labelencoder_y.fit_transform(df_train['29'].values)\n",
    "df_train['24']=labelencoder_y.fit_transform(df_train['24'].values)\n",
    "df_train['38']=labelencoder_y.fit_transform(df_train['38'].values)\n",
    "df_train['43']=labelencoder_y.fit_transform(df_train['43'].values)\n",
    "df_train['45']=labelencoder_y.fit_transform(df_train['45'].values)\n",
    "df_train['53']=labelencoder_y.fit_transform(df_train['53'].values)\n",
    "df_train['57']=labelencoder_y.fit_transform(df_train['57'].values)\n",
    "df_train['60']=labelencoder_y.fit_transform(df_train['60'].values)\n",
    "df_train['61']=labelencoder_y.fit_transform(df_train['61'].values)\n",
    "df_train['65']=labelencoder_y.fit_transform(df_train['65'].values)\n",
    "df_train['73']=labelencoder_y.fit_transform(df_train['73'].values)\n",
    "df_train['87']=labelencoder_y.fit_transform(df_train['87'].values)\n",
    "df_train['89']=labelencoder_y.fit_transform(df_train['89'].values)\n",
    "df_train['91']=labelencoder_y.fit_transform(df_train['91'].values)\n",
    "df_train['96']=labelencoder_y.fit_transform(df_train['96'].values)\n",
    "\n",
    "\n"
   ]
  },
  {
   "cell_type": "code",
   "execution_count": 20,
   "metadata": {},
   "outputs": [
    {
     "data": {
      "text/html": [
       "<div>\n",
       "<style scoped>\n",
       "    .dataframe tbody tr th:only-of-type {\n",
       "        vertical-align: middle;\n",
       "    }\n",
       "\n",
       "    .dataframe tbody tr th {\n",
       "        vertical-align: top;\n",
       "    }\n",
       "\n",
       "    .dataframe thead th {\n",
       "        text-align: right;\n",
       "    }\n",
       "</style>\n",
       "<table border=\"1\" class=\"dataframe\">\n",
       "  <thead>\n",
       "    <tr style=\"text-align: right;\">\n",
       "      <th></th>\n",
       "      <th>1</th>\n",
       "      <th>2</th>\n",
       "      <th>3</th>\n",
       "      <th>4</th>\n",
       "      <th>5</th>\n",
       "      <th>6</th>\n",
       "      <th>7</th>\n",
       "      <th>8</th>\n",
       "      <th>9</th>\n",
       "      <th>10</th>\n",
       "      <th>...</th>\n",
       "      <th>93</th>\n",
       "      <th>94</th>\n",
       "      <th>95</th>\n",
       "      <th>96</th>\n",
       "      <th>97</th>\n",
       "      <th>98</th>\n",
       "      <th>99</th>\n",
       "      <th>100</th>\n",
       "      <th>101</th>\n",
       "      <th>target</th>\n",
       "    </tr>\n",
       "  </thead>\n",
       "  <tbody>\n",
       "    <tr>\n",
       "      <th>0</th>\n",
       "      <td>1.250042</td>\n",
       "      <td>19.145029</td>\n",
       "      <td>2</td>\n",
       "      <td>9.584353</td>\n",
       "      <td>34.984717</td>\n",
       "      <td>7.027265</td>\n",
       "      <td>6.689411</td>\n",
       "      <td>36.111964</td>\n",
       "      <td>4.899921</td>\n",
       "      <td>23.910874</td>\n",
       "      <td>...</td>\n",
       "      <td>7.525531</td>\n",
       "      <td>13.317211</td>\n",
       "      <td>26.600325</td>\n",
       "      <td>75</td>\n",
       "      <td>5.774739</td>\n",
       "      <td>3.040639</td>\n",
       "      <td>0</td>\n",
       "      <td>11.309413</td>\n",
       "      <td>0.995232</td>\n",
       "      <td>1</td>\n",
       "    </tr>\n",
       "    <tr>\n",
       "      <th>1</th>\n",
       "      <td>2.970214</td>\n",
       "      <td>27.764929</td>\n",
       "      <td>2</td>\n",
       "      <td>20.236078</td>\n",
       "      <td>38.657649</td>\n",
       "      <td>10.392102</td>\n",
       "      <td>11.340814</td>\n",
       "      <td>47.482511</td>\n",
       "      <td>5.879906</td>\n",
       "      <td>24.805936</td>\n",
       "      <td>...</td>\n",
       "      <td>9.533020</td>\n",
       "      <td>4.681385</td>\n",
       "      <td>44.953855</td>\n",
       "      <td>61</td>\n",
       "      <td>5.930394</td>\n",
       "      <td>8.292149</td>\n",
       "      <td>0</td>\n",
       "      <td>2.363188</td>\n",
       "      <td>6.675311</td>\n",
       "      <td>1</td>\n",
       "    </tr>\n",
       "    <tr>\n",
       "      <th>2</th>\n",
       "      <td>3.135308</td>\n",
       "      <td>32.574846</td>\n",
       "      <td>2</td>\n",
       "      <td>10.915899</td>\n",
       "      <td>32.318764</td>\n",
       "      <td>6.779047</td>\n",
       "      <td>7.626425</td>\n",
       "      <td>35.991821</td>\n",
       "      <td>3.919938</td>\n",
       "      <td>24.728131</td>\n",
       "      <td>...</td>\n",
       "      <td>6.145599</td>\n",
       "      <td>12.953741</td>\n",
       "      <td>28.016364</td>\n",
       "      <td>48</td>\n",
       "      <td>6.049601</td>\n",
       "      <td>10.440941</td>\n",
       "      <td>0</td>\n",
       "      <td>9.620541</td>\n",
       "      <td>2.573866</td>\n",
       "      <td>0</td>\n",
       "    </tr>\n",
       "    <tr>\n",
       "      <th>3</th>\n",
       "      <td>4.277058</td>\n",
       "      <td>47.738345</td>\n",
       "      <td>2</td>\n",
       "      <td>16.489040</td>\n",
       "      <td>39.429322</td>\n",
       "      <td>6.935775</td>\n",
       "      <td>10.205494</td>\n",
       "      <td>38.813908</td>\n",
       "      <td>5.798239</td>\n",
       "      <td>26.308526</td>\n",
       "      <td>...</td>\n",
       "      <td>9.026123</td>\n",
       "      <td>7.586292</td>\n",
       "      <td>29.856851</td>\n",
       "      <td>14</td>\n",
       "      <td>5.166861</td>\n",
       "      <td>13.376133</td>\n",
       "      <td>1</td>\n",
       "      <td>4.444706</td>\n",
       "      <td>5.679290</td>\n",
       "      <td>1</td>\n",
       "    </tr>\n",
       "    <tr>\n",
       "      <th>4</th>\n",
       "      <td>4.473978</td>\n",
       "      <td>16.115129</td>\n",
       "      <td>3</td>\n",
       "      <td>10.403431</td>\n",
       "      <td>38.915410</td>\n",
       "      <td>7.852578</td>\n",
       "      <td>6.757196</td>\n",
       "      <td>23.161443</td>\n",
       "      <td>5.879904</td>\n",
       "      <td>23.663073</td>\n",
       "      <td>...</td>\n",
       "      <td>8.286800</td>\n",
       "      <td>9.337974</td>\n",
       "      <td>17.419744</td>\n",
       "      <td>27</td>\n",
       "      <td>6.444625</td>\n",
       "      <td>6.748303</td>\n",
       "      <td>0</td>\n",
       "      <td>8.737056</td>\n",
       "      <td>4.564449</td>\n",
       "      <td>0</td>\n",
       "    </tr>\n",
       "    <tr>\n",
       "      <th>...</th>\n",
       "      <td>...</td>\n",
       "      <td>...</td>\n",
       "      <td>...</td>\n",
       "      <td>...</td>\n",
       "      <td>...</td>\n",
       "      <td>...</td>\n",
       "      <td>...</td>\n",
       "      <td>...</td>\n",
       "      <td>...</td>\n",
       "      <td>...</td>\n",
       "      <td>...</td>\n",
       "      <td>...</td>\n",
       "      <td>...</td>\n",
       "      <td>...</td>\n",
       "      <td>...</td>\n",
       "      <td>...</td>\n",
       "      <td>...</td>\n",
       "      <td>...</td>\n",
       "      <td>...</td>\n",
       "      <td>...</td>\n",
       "      <td>...</td>\n",
       "    </tr>\n",
       "    <tr>\n",
       "      <th>60585</th>\n",
       "      <td>NaN</td>\n",
       "      <td>NaN</td>\n",
       "      <td>2</td>\n",
       "      <td>NaN</td>\n",
       "      <td>NaN</td>\n",
       "      <td>NaN</td>\n",
       "      <td>NaN</td>\n",
       "      <td>NaN</td>\n",
       "      <td>2.939955</td>\n",
       "      <td>22.771000</td>\n",
       "      <td>...</td>\n",
       "      <td>NaN</td>\n",
       "      <td>NaN</td>\n",
       "      <td>NaN</td>\n",
       "      <td>72</td>\n",
       "      <td>NaN</td>\n",
       "      <td>NaN</td>\n",
       "      <td>0</td>\n",
       "      <td>NaN</td>\n",
       "      <td>NaN</td>\n",
       "      <td>0</td>\n",
       "    </tr>\n",
       "    <tr>\n",
       "      <th>60586</th>\n",
       "      <td>NaN</td>\n",
       "      <td>NaN</td>\n",
       "      <td>2</td>\n",
       "      <td>NaN</td>\n",
       "      <td>NaN</td>\n",
       "      <td>NaN</td>\n",
       "      <td>NaN</td>\n",
       "      <td>NaN</td>\n",
       "      <td>4.164932</td>\n",
       "      <td>22.793768</td>\n",
       "      <td>...</td>\n",
       "      <td>NaN</td>\n",
       "      <td>NaN</td>\n",
       "      <td>NaN</td>\n",
       "      <td>0</td>\n",
       "      <td>NaN</td>\n",
       "      <td>NaN</td>\n",
       "      <td>0</td>\n",
       "      <td>NaN</td>\n",
       "      <td>NaN</td>\n",
       "      <td>0</td>\n",
       "    </tr>\n",
       "    <tr>\n",
       "      <th>60587</th>\n",
       "      <td>2.017844</td>\n",
       "      <td>28.152826</td>\n",
       "      <td>2</td>\n",
       "      <td>13.681214</td>\n",
       "      <td>28.386099</td>\n",
       "      <td>6.907944</td>\n",
       "      <td>8.725818</td>\n",
       "      <td>44.182790</td>\n",
       "      <td>0.979982</td>\n",
       "      <td>22.533592</td>\n",
       "      <td>...</td>\n",
       "      <td>6.874930</td>\n",
       "      <td>8.327845</td>\n",
       "      <td>37.823145</td>\n",
       "      <td>49</td>\n",
       "      <td>5.529831</td>\n",
       "      <td>20.791995</td>\n",
       "      <td>0</td>\n",
       "      <td>4.727334</td>\n",
       "      <td>2.946400</td>\n",
       "      <td>0</td>\n",
       "    </tr>\n",
       "    <tr>\n",
       "      <th>60588</th>\n",
       "      <td>5.260496</td>\n",
       "      <td>32.190335</td>\n",
       "      <td>2</td>\n",
       "      <td>15.239673</td>\n",
       "      <td>25.876272</td>\n",
       "      <td>8.205556</td>\n",
       "      <td>10.216324</td>\n",
       "      <td>42.492059</td>\n",
       "      <td>4.899918</td>\n",
       "      <td>22.773930</td>\n",
       "      <td>...</td>\n",
       "      <td>9.694508</td>\n",
       "      <td>11.686105</td>\n",
       "      <td>29.227343</td>\n",
       "      <td>3</td>\n",
       "      <td>5.361933</td>\n",
       "      <td>21.440572</td>\n",
       "      <td>0</td>\n",
       "      <td>6.202865</td>\n",
       "      <td>4.999955</td>\n",
       "      <td>1</td>\n",
       "    </tr>\n",
       "    <tr>\n",
       "      <th>60589</th>\n",
       "      <td>NaN</td>\n",
       "      <td>NaN</td>\n",
       "      <td>2</td>\n",
       "      <td>NaN</td>\n",
       "      <td>NaN</td>\n",
       "      <td>NaN</td>\n",
       "      <td>NaN</td>\n",
       "      <td>NaN</td>\n",
       "      <td>4.899919</td>\n",
       "      <td>22.911856</td>\n",
       "      <td>...</td>\n",
       "      <td>NaN</td>\n",
       "      <td>NaN</td>\n",
       "      <td>NaN</td>\n",
       "      <td>15</td>\n",
       "      <td>NaN</td>\n",
       "      <td>NaN</td>\n",
       "      <td>0</td>\n",
       "      <td>NaN</td>\n",
       "      <td>NaN</td>\n",
       "      <td>1</td>\n",
       "    </tr>\n",
       "  </tbody>\n",
       "</table>\n",
       "<p>60590 rows × 102 columns</p>\n",
       "</div>"
      ],
      "text/plain": [
       "              1          2  3          4          5          6          7  \\\n",
       "0      1.250042  19.145029  2   9.584353  34.984717   7.027265   6.689411   \n",
       "1      2.970214  27.764929  2  20.236078  38.657649  10.392102  11.340814   \n",
       "2      3.135308  32.574846  2  10.915899  32.318764   6.779047   7.626425   \n",
       "3      4.277058  47.738345  2  16.489040  39.429322   6.935775  10.205494   \n",
       "4      4.473978  16.115129  3  10.403431  38.915410   7.852578   6.757196   \n",
       "...         ...        ... ..        ...        ...        ...        ...   \n",
       "60585       NaN        NaN  2        NaN        NaN        NaN        NaN   \n",
       "60586       NaN        NaN  2        NaN        NaN        NaN        NaN   \n",
       "60587  2.017844  28.152826  2  13.681214  28.386099   6.907944   8.725818   \n",
       "60588  5.260496  32.190335  2  15.239673  25.876272   8.205556  10.216324   \n",
       "60589       NaN        NaN  2        NaN        NaN        NaN        NaN   \n",
       "\n",
       "               8         9         10  ...        93         94         95  \\\n",
       "0      36.111964  4.899921  23.910874  ...  7.525531  13.317211  26.600325   \n",
       "1      47.482511  5.879906  24.805936  ...  9.533020   4.681385  44.953855   \n",
       "2      35.991821  3.919938  24.728131  ...  6.145599  12.953741  28.016364   \n",
       "3      38.813908  5.798239  26.308526  ...  9.026123   7.586292  29.856851   \n",
       "4      23.161443  5.879904  23.663073  ...  8.286800   9.337974  17.419744   \n",
       "...          ...       ...        ...  ...       ...        ...        ...   \n",
       "60585        NaN  2.939955  22.771000  ...       NaN        NaN        NaN   \n",
       "60586        NaN  4.164932  22.793768  ...       NaN        NaN        NaN   \n",
       "60587  44.182790  0.979982  22.533592  ...  6.874930   8.327845  37.823145   \n",
       "60588  42.492059  4.899918  22.773930  ...  9.694508  11.686105  29.227343   \n",
       "60589        NaN  4.899919  22.911856  ...       NaN        NaN        NaN   \n",
       "\n",
       "       96        97         98  99        100       101  target  \n",
       "0      75  5.774739   3.040639   0  11.309413  0.995232       1  \n",
       "1      61  5.930394   8.292149   0   2.363188  6.675311       1  \n",
       "2      48  6.049601  10.440941   0   9.620541  2.573866       0  \n",
       "3      14  5.166861  13.376133   1   4.444706  5.679290       1  \n",
       "4      27  6.444625   6.748303   0   8.737056  4.564449       0  \n",
       "...    ..       ...        ...  ..        ...       ...     ...  \n",
       "60585  72       NaN        NaN   0        NaN       NaN       0  \n",
       "60586   0       NaN        NaN   0        NaN       NaN       0  \n",
       "60587  49  5.529831  20.791995   0   4.727334  2.946400       0  \n",
       "60588   3  5.361933  21.440572   0   6.202865  4.999955       1  \n",
       "60589  15       NaN        NaN   0        NaN       NaN       1  \n",
       "\n",
       "[60590 rows x 102 columns]"
      ]
     },
     "execution_count": 20,
     "metadata": {},
     "output_type": "execute_result"
    }
   ],
   "source": [
    "df_train"
   ]
  },
  {
   "cell_type": "code",
   "execution_count": 21,
   "metadata": {},
   "outputs": [
    {
     "data": {
      "text/html": [
       "<div>\n",
       "<style scoped>\n",
       "    .dataframe tbody tr th:only-of-type {\n",
       "        vertical-align: middle;\n",
       "    }\n",
       "\n",
       "    .dataframe tbody tr th {\n",
       "        vertical-align: top;\n",
       "    }\n",
       "\n",
       "    .dataframe thead th {\n",
       "        text-align: right;\n",
       "    }\n",
       "</style>\n",
       "<table border=\"1\" class=\"dataframe\">\n",
       "  <thead>\n",
       "    <tr style=\"text-align: right;\">\n",
       "      <th></th>\n",
       "      <th>1</th>\n",
       "      <th>2</th>\n",
       "      <th>3</th>\n",
       "      <th>4</th>\n",
       "      <th>5</th>\n",
       "      <th>6</th>\n",
       "      <th>7</th>\n",
       "      <th>8</th>\n",
       "      <th>9</th>\n",
       "      <th>10</th>\n",
       "      <th>...</th>\n",
       "      <th>92</th>\n",
       "      <th>93</th>\n",
       "      <th>94</th>\n",
       "      <th>95</th>\n",
       "      <th>96</th>\n",
       "      <th>97</th>\n",
       "      <th>98</th>\n",
       "      <th>99</th>\n",
       "      <th>100</th>\n",
       "      <th>101</th>\n",
       "    </tr>\n",
       "  </thead>\n",
       "  <tbody>\n",
       "    <tr>\n",
       "      <th>0</th>\n",
       "      <td>NaN</td>\n",
       "      <td>NaN</td>\n",
       "      <td>C</td>\n",
       "      <td>NaN</td>\n",
       "      <td>NaN</td>\n",
       "      <td>NaN</td>\n",
       "      <td>NaN</td>\n",
       "      <td>NaN</td>\n",
       "      <td>2.858289</td>\n",
       "      <td>22.872606</td>\n",
       "      <td>...</td>\n",
       "      <td>41.899637</td>\n",
       "      <td>NaN</td>\n",
       "      <td>NaN</td>\n",
       "      <td>NaN</td>\n",
       "      <td>BY</td>\n",
       "      <td>NaN</td>\n",
       "      <td>NaN</td>\n",
       "      <td>0</td>\n",
       "      <td>NaN</td>\n",
       "      <td>NaN</td>\n",
       "    </tr>\n",
       "    <tr>\n",
       "      <th>1</th>\n",
       "      <td>NaN</td>\n",
       "      <td>NaN</td>\n",
       "      <td>C</td>\n",
       "      <td>NaN</td>\n",
       "      <td>NaN</td>\n",
       "      <td>NaN</td>\n",
       "      <td>NaN</td>\n",
       "      <td>NaN</td>\n",
       "      <td>8.738194</td>\n",
       "      <td>26.296159</td>\n",
       "      <td>...</td>\n",
       "      <td>55.246190</td>\n",
       "      <td>NaN</td>\n",
       "      <td>NaN</td>\n",
       "      <td>NaN</td>\n",
       "      <td>AL</td>\n",
       "      <td>NaN</td>\n",
       "      <td>NaN</td>\n",
       "      <td>5</td>\n",
       "      <td>NaN</td>\n",
       "      <td>NaN</td>\n",
       "    </tr>\n",
       "  </tbody>\n",
       "</table>\n",
       "<p>2 rows × 101 columns</p>\n",
       "</div>"
      ],
      "text/plain": [
       "    1   2  3   4   5   6   7   8         9         10  ...         92  93  94  \\\n",
       "0 NaN NaN  C NaN NaN NaN NaN NaN  2.858289  22.872606  ...  41.899637 NaN NaN   \n",
       "1 NaN NaN  C NaN NaN NaN NaN NaN  8.738194  26.296159  ...  55.246190 NaN NaN   \n",
       "\n",
       "   95  96  97  98 99 100  101  \n",
       "0 NaN  BY NaN NaN  0 NaN  NaN  \n",
       "1 NaN  AL NaN NaN  5 NaN  NaN  \n",
       "\n",
       "[2 rows x 101 columns]"
      ]
     },
     "execution_count": 21,
     "metadata": {},
     "output_type": "execute_result"
    }
   ],
   "source": [
    "df_test.head(2)"
   ]
  },
  {
   "cell_type": "code",
   "execution_count": 22,
   "metadata": {},
   "outputs": [
    {
     "data": {
      "text/plain": [
       "1      23504\n",
       "2      23488\n",
       "3       1565\n",
       "4      23488\n",
       "5      22931\n",
       "       ...  \n",
       "97     23504\n",
       "98     23504\n",
       "99         0\n",
       "100    23514\n",
       "101    23531\n",
       "Length: 101, dtype: int64"
      ]
     },
     "execution_count": 22,
     "metadata": {},
     "output_type": "execute_result"
    }
   ],
   "source": [
    "df_test.isna().sum()"
   ]
  },
  {
   "cell_type": "code",
   "execution_count": 23,
   "metadata": {},
   "outputs": [],
   "source": [
    "df_test['3'] = df_test['3'].astype(str)\n",
    "df_test['18'] = df_test['18'].astype(str)\n",
    "df_test['19'] = df_test['19'].astype(str)\n",
    "df_test['24'] = df_test['24'].astype(str)\n",
    "df_test['38'] = df_test['38'].astype(str)\n",
    "df_test['43'] = df_test['43'].astype(str)\n",
    "df_test['45'] = df_test['45'].astype(str)\n",
    "df_test['53'] = df_test['53'].astype(str)\n",
    "df_test['57'] = df_test['57'].astype(str)\n",
    "df_test['60'] = df_test['60'].astype(str)\n",
    "df_test['61'] = df_test['61'].astype(str)\n",
    "df_test['65'] = df_test['65'].astype(str)\n",
    "df_test['73'] = df_test['73'].astype(str)\n",
    "df_test['87'] = df_test['87'].astype(str)\n",
    "df_test['89'] = df_test['89'].astype(str)\n",
    "df_test['91'] = df_test['91'].astype(str)\n",
    "df_test['96'] = df_test['96'].astype(str)"
   ]
  },
  {
   "cell_type": "code",
   "execution_count": 24,
   "metadata": {},
   "outputs": [],
   "source": [
    "from sklearn.preprocessing import LabelEncoder\n",
    "labelencoder_y = LabelEncoder()\n",
    "df_test['3']=labelencoder_y.fit_transform(df_test['3'].values)\n",
    "df_test['18']=labelencoder_y.fit_transform(df_test['18'].values)\n",
    "df_test['19']=labelencoder_y.fit_transform(df_test['29'].values)\n",
    "df_test['24']=labelencoder_y.fit_transform(df_test['24'].values)\n",
    "df_test['38']=labelencoder_y.fit_transform(df_test['38'].values)\n",
    "df_test['43']=labelencoder_y.fit_transform(df_test['43'].values)\n",
    "df_test['45']=labelencoder_y.fit_transform(df_test['45'].values)\n",
    "df_test['53']=labelencoder_y.fit_transform(df_test['53'].values)\n",
    "df_test['57']=labelencoder_y.fit_transform(df_test['57'].values)\n",
    "df_test['60']=labelencoder_y.fit_transform(df_test['60'].values)\n",
    "df_test['61']=labelencoder_y.fit_transform(df_test['61'].values)\n",
    "df_test['65']=labelencoder_y.fit_transform(df_test['65'].values)\n",
    "df_test['73']=labelencoder_y.fit_transform(df_test['73'].values)\n",
    "df_test['87']=labelencoder_y.fit_transform(df_test['87'].values)\n",
    "df_test['89']=labelencoder_y.fit_transform(df_test['89'].values)\n",
    "df_test['91']=labelencoder_y.fit_transform(df_test['91'].values)\n",
    "df_test['96']=labelencoder_y.fit_transform(df_test['96'].values)\n"
   ]
  },
  {
   "cell_type": "code",
   "execution_count": 25,
   "metadata": {},
   "outputs": [
    {
     "data": {
      "text/plain": [
       "1      23504\n",
       "2      23488\n",
       "3          0\n",
       "4      23488\n",
       "5      22931\n",
       "       ...  \n",
       "97     23504\n",
       "98     23504\n",
       "99         0\n",
       "100    23514\n",
       "101    23531\n",
       "Length: 101, dtype: int64"
      ]
     },
     "execution_count": 25,
     "metadata": {},
     "output_type": "execute_result"
    }
   ],
   "source": [
    "df_test.isna().sum()"
   ]
  },
  {
   "cell_type": "code",
   "execution_count": 26,
   "metadata": {},
   "outputs": [
    {
     "data": {
      "text/plain": [
       "(53731, 101)"
      ]
     },
     "execution_count": 26,
     "metadata": {},
     "output_type": "execute_result"
    }
   ],
   "source": [
    "df_test.shape"
   ]
  },
  {
   "cell_type": "code",
   "execution_count": 27,
   "metadata": {},
   "outputs": [],
   "source": [
    "df_train = df_train.fillna(1)"
   ]
  },
  {
   "cell_type": "code",
   "execution_count": 28,
   "metadata": {},
   "outputs": [],
   "source": [
    "df_test = df_test.fillna(1)"
   ]
  },
  {
   "cell_type": "code",
   "execution_count": 29,
   "metadata": {},
   "outputs": [
    {
     "data": {
      "text/plain": [
       "1         0\n",
       "2         0\n",
       "3         0\n",
       "4         0\n",
       "5         0\n",
       "         ..\n",
       "98        0\n",
       "99        0\n",
       "100       0\n",
       "101       0\n",
       "target    0\n",
       "Length: 102, dtype: int64"
      ]
     },
     "execution_count": 29,
     "metadata": {},
     "output_type": "execute_result"
    }
   ],
   "source": [
    "df_train.isna().sum()"
   ]
  },
  {
   "cell_type": "code",
   "execution_count": 30,
   "metadata": {},
   "outputs": [
    {
     "data": {
      "text/plain": [
       "1      0\n",
       "2      0\n",
       "3      0\n",
       "4      0\n",
       "5      0\n",
       "      ..\n",
       "97     0\n",
       "98     0\n",
       "99     0\n",
       "100    0\n",
       "101    0\n",
       "Length: 101, dtype: int64"
      ]
     },
     "execution_count": 30,
     "metadata": {},
     "output_type": "execute_result"
    }
   ],
   "source": [
    "df_test.isna().sum()"
   ]
  },
  {
   "cell_type": "code",
   "execution_count": 31,
   "metadata": {},
   "outputs": [
    {
     "data": {
      "text/plain": [
       "array([dtype('float64'), dtype('float64'), dtype('int32'),\n",
       "       dtype('float64'), dtype('float64'), dtype('float64'),\n",
       "       dtype('float64'), dtype('float64'), dtype('float64'),\n",
       "       dtype('float64'), dtype('float64'), dtype('float64'),\n",
       "       dtype('float64'), dtype('float64'), dtype('float64'),\n",
       "       dtype('float64'), dtype('float64'), dtype('int32'), dtype('int64'),\n",
       "       dtype('float64'), dtype('float64'), dtype('float64'),\n",
       "       dtype('float64'), dtype('int32'), dtype('float64'),\n",
       "       dtype('float64'), dtype('float64'), dtype('float64'),\n",
       "       dtype('float64'), dtype('int64'), dtype('float64'),\n",
       "       dtype('float64'), dtype('float64'), dtype('float64'),\n",
       "       dtype('float64'), dtype('float64'), dtype('float64'),\n",
       "       dtype('int32'), dtype('float64'), dtype('float64'),\n",
       "       dtype('float64'), dtype('float64'), dtype('int32'),\n",
       "       dtype('float64'), dtype('int32'), dtype('float64'),\n",
       "       dtype('float64'), dtype('float64'), dtype('float64'),\n",
       "       dtype('float64'), dtype('int64'), dtype('float64'), dtype('int32'),\n",
       "       dtype('float64'), dtype('float64'), dtype('float64'),\n",
       "       dtype('int32'), dtype('int64'), dtype('float64'), dtype('int32'),\n",
       "       dtype('int32'), dtype('float64'), dtype('float64'),\n",
       "       dtype('float64'), dtype('int32'), dtype('float64'),\n",
       "       dtype('float64'), dtype('float64'), dtype('float64'),\n",
       "       dtype('float64'), dtype('float64'), dtype('float64'),\n",
       "       dtype('int32'), dtype('float64'), dtype('float64'),\n",
       "       dtype('float64'), dtype('float64'), dtype('float64'),\n",
       "       dtype('float64'), dtype('float64'), dtype('float64'),\n",
       "       dtype('float64'), dtype('float64'), dtype('float64'),\n",
       "       dtype('float64'), dtype('float64'), dtype('int32'),\n",
       "       dtype('float64'), dtype('int32'), dtype('float64'), dtype('int32'),\n",
       "       dtype('float64'), dtype('float64'), dtype('float64'),\n",
       "       dtype('float64'), dtype('int32'), dtype('float64'),\n",
       "       dtype('float64'), dtype('int64'), dtype('float64'),\n",
       "       dtype('float64'), dtype('int64')], dtype=object)"
      ]
     },
     "execution_count": 31,
     "metadata": {},
     "output_type": "execute_result"
    }
   ],
   "source": [
    "df_train.dtypes.values"
   ]
  },
  {
   "cell_type": "markdown",
   "metadata": {},
   "source": [
    "### TRAIN TEST SECTION"
   ]
  },
  {
   "cell_type": "code",
   "execution_count": null,
   "metadata": {},
   "outputs": [],
   "source": []
  },
  {
   "cell_type": "code",
   "execution_count": 32,
   "metadata": {},
   "outputs": [],
   "source": [
    "X_train = df_train.iloc[:,:-1]\n",
    "X_test = df_test.iloc[:,:]"
   ]
  },
  {
   "cell_type": "code",
   "execution_count": 33,
   "metadata": {},
   "outputs": [],
   "source": [
    "y_train = df_train.iloc[:,-1]"
   ]
  },
  {
   "cell_type": "code",
   "execution_count": 34,
   "metadata": {},
   "outputs": [
    {
     "data": {
      "text/plain": [
       "0        1\n",
       "1        1\n",
       "2        0\n",
       "3        1\n",
       "4        0\n",
       "        ..\n",
       "60585    0\n",
       "60586    0\n",
       "60587    0\n",
       "60588    1\n",
       "60589    1\n",
       "Name: target, Length: 60590, dtype: int64"
      ]
     },
     "execution_count": 34,
     "metadata": {},
     "output_type": "execute_result"
    }
   ],
   "source": [
    "y_train"
   ]
  },
  {
   "cell_type": "markdown",
   "metadata": {},
   "source": [
    "### BUILD MODEL"
   ]
  },
  {
   "cell_type": "code",
   "execution_count": 35,
   "metadata": {},
   "outputs": [],
   "source": [
    "from sklearn.tree import DecisionTreeClassifier"
   ]
  },
  {
   "cell_type": "code",
   "execution_count": 36,
   "metadata": {},
   "outputs": [],
   "source": [
    "clf1 =  DecisionTreeClassifier()"
   ]
  },
  {
   "cell_type": "code",
   "execution_count": 37,
   "metadata": {},
   "outputs": [
    {
     "data": {
      "text/plain": [
       "DecisionTreeClassifier()"
      ]
     },
     "execution_count": 37,
     "metadata": {},
     "output_type": "execute_result"
    }
   ],
   "source": [
    " clf1.fit(X_train , y_train)"
   ]
  },
  {
   "cell_type": "code",
   "execution_count": 38,
   "metadata": {},
   "outputs": [],
   "source": [
    "y_pred=clf1.predict(X_test)"
   ]
  },
  {
   "cell_type": "code",
   "execution_count": 39,
   "metadata": {},
   "outputs": [],
   "source": [
    "target1 = pd.DataFrame(y_pred )"
   ]
  },
  {
   "cell_type": "code",
   "execution_count": 40,
   "metadata": {},
   "outputs": [
    {
     "data": {
      "text/html": [
       "<div>\n",
       "<style scoped>\n",
       "    .dataframe tbody tr th:only-of-type {\n",
       "        vertical-align: middle;\n",
       "    }\n",
       "\n",
       "    .dataframe tbody tr th {\n",
       "        vertical-align: top;\n",
       "    }\n",
       "\n",
       "    .dataframe thead th {\n",
       "        text-align: right;\n",
       "    }\n",
       "</style>\n",
       "<table border=\"1\" class=\"dataframe\">\n",
       "  <thead>\n",
       "    <tr style=\"text-align: right;\">\n",
       "      <th></th>\n",
       "      <th>0</th>\n",
       "    </tr>\n",
       "  </thead>\n",
       "  <tbody>\n",
       "    <tr>\n",
       "      <th>0</th>\n",
       "      <td>1</td>\n",
       "    </tr>\n",
       "    <tr>\n",
       "      <th>1</th>\n",
       "      <td>1</td>\n",
       "    </tr>\n",
       "    <tr>\n",
       "      <th>2</th>\n",
       "      <td>0</td>\n",
       "    </tr>\n",
       "    <tr>\n",
       "      <th>3</th>\n",
       "      <td>1</td>\n",
       "    </tr>\n",
       "    <tr>\n",
       "      <th>4</th>\n",
       "      <td>1</td>\n",
       "    </tr>\n",
       "    <tr>\n",
       "      <th>...</th>\n",
       "      <td>...</td>\n",
       "    </tr>\n",
       "    <tr>\n",
       "      <th>53726</th>\n",
       "      <td>1</td>\n",
       "    </tr>\n",
       "    <tr>\n",
       "      <th>53727</th>\n",
       "      <td>0</td>\n",
       "    </tr>\n",
       "    <tr>\n",
       "      <th>53728</th>\n",
       "      <td>1</td>\n",
       "    </tr>\n",
       "    <tr>\n",
       "      <th>53729</th>\n",
       "      <td>1</td>\n",
       "    </tr>\n",
       "    <tr>\n",
       "      <th>53730</th>\n",
       "      <td>0</td>\n",
       "    </tr>\n",
       "  </tbody>\n",
       "</table>\n",
       "<p>53731 rows × 1 columns</p>\n",
       "</div>"
      ],
      "text/plain": [
       "       0\n",
       "0      1\n",
       "1      1\n",
       "2      0\n",
       "3      1\n",
       "4      1\n",
       "...   ..\n",
       "53726  1\n",
       "53727  0\n",
       "53728  1\n",
       "53729  1\n",
       "53730  0\n",
       "\n",
       "[53731 rows x 1 columns]"
      ]
     },
     "execution_count": 40,
     "metadata": {},
     "output_type": "execute_result"
    }
   ],
   "source": [
    "target1"
   ]
  },
  {
   "cell_type": "code",
   "execution_count": 41,
   "metadata": {},
   "outputs": [],
   "source": [
    "from sklearn.model_selection import cross_val_score\n",
    "a = cross_val_score(clf1 , X_train , y_train , cv=3 , scoring=\"accuracy\")"
   ]
  },
  {
   "cell_type": "code",
   "execution_count": 42,
   "metadata": {},
   "outputs": [
    {
     "data": {
      "text/plain": [
       "0.6849479505787907"
      ]
     },
     "execution_count": 42,
     "metadata": {},
     "output_type": "execute_result"
    }
   ],
   "source": [
    "a.mean()"
   ]
  },
  {
   "cell_type": "code",
   "execution_count": 43,
   "metadata": {},
   "outputs": [],
   "source": [
    "target1.to_csv('target_preddd.csv', header=False, index=False)"
   ]
  },
  {
   "cell_type": "code",
   "execution_count": 44,
   "metadata": {},
   "outputs": [],
   "source": [
    "from sklearn.linear_model import LogisticRegression\n",
    "clf2 = LogisticRegression(tol=0.1 , solver = 'lbfgs')\n"
   ]
  },
  {
   "cell_type": "code",
   "execution_count": 45,
   "metadata": {},
   "outputs": [
    {
     "name": "stderr",
     "output_type": "stream",
     "text": [
      "C:\\Users\\Keyur Chaudhari\\anaconda3\\py\\lib\\site-packages\\sklearn\\linear_model\\_logistic.py:762: ConvergenceWarning: lbfgs failed to converge (status=1):\n",
      "STOP: TOTAL NO. of ITERATIONS REACHED LIMIT.\n",
      "\n",
      "Increase the number of iterations (max_iter) or scale the data as shown in:\n",
      "    https://scikit-learn.org/stable/modules/preprocessing.html\n",
      "Please also refer to the documentation for alternative solver options:\n",
      "    https://scikit-learn.org/stable/modules/linear_model.html#logistic-regression\n",
      "  n_iter_i = _check_optimize_result(\n"
     ]
    },
    {
     "data": {
      "text/plain": [
       "LogisticRegression(tol=0.1)"
      ]
     },
     "execution_count": 45,
     "metadata": {},
     "output_type": "execute_result"
    }
   ],
   "source": [
    "clf2.fit(X_train , y_train)"
   ]
  },
  {
   "cell_type": "code",
   "execution_count": 46,
   "metadata": {},
   "outputs": [],
   "source": [
    "yo_pred = clf2.predict(X_test)"
   ]
  },
  {
   "cell_type": "code",
   "execution_count": 47,
   "metadata": {},
   "outputs": [],
   "source": [
    "target2 = pd.DataFrame(yo_pred )"
   ]
  },
  {
   "cell_type": "code",
   "execution_count": 48,
   "metadata": {},
   "outputs": [
    {
     "name": "stderr",
     "output_type": "stream",
     "text": [
      "C:\\Users\\Keyur Chaudhari\\anaconda3\\py\\lib\\site-packages\\sklearn\\linear_model\\_logistic.py:762: ConvergenceWarning: lbfgs failed to converge (status=1):\n",
      "STOP: TOTAL NO. of ITERATIONS REACHED LIMIT.\n",
      "\n",
      "Increase the number of iterations (max_iter) or scale the data as shown in:\n",
      "    https://scikit-learn.org/stable/modules/preprocessing.html\n",
      "Please also refer to the documentation for alternative solver options:\n",
      "    https://scikit-learn.org/stable/modules/linear_model.html#logistic-regression\n",
      "  n_iter_i = _check_optimize_result(\n",
      "C:\\Users\\Keyur Chaudhari\\anaconda3\\py\\lib\\site-packages\\sklearn\\linear_model\\_logistic.py:762: ConvergenceWarning: lbfgs failed to converge (status=1):\n",
      "STOP: TOTAL NO. of ITERATIONS REACHED LIMIT.\n",
      "\n",
      "Increase the number of iterations (max_iter) or scale the data as shown in:\n",
      "    https://scikit-learn.org/stable/modules/preprocessing.html\n",
      "Please also refer to the documentation for alternative solver options:\n",
      "    https://scikit-learn.org/stable/modules/linear_model.html#logistic-regression\n",
      "  n_iter_i = _check_optimize_result(\n",
      "C:\\Users\\Keyur Chaudhari\\anaconda3\\py\\lib\\site-packages\\sklearn\\linear_model\\_logistic.py:762: ConvergenceWarning: lbfgs failed to converge (status=1):\n",
      "STOP: TOTAL NO. of ITERATIONS REACHED LIMIT.\n",
      "\n",
      "Increase the number of iterations (max_iter) or scale the data as shown in:\n",
      "    https://scikit-learn.org/stable/modules/preprocessing.html\n",
      "Please also refer to the documentation for alternative solver options:\n",
      "    https://scikit-learn.org/stable/modules/linear_model.html#logistic-regression\n",
      "  n_iter_i = _check_optimize_result(\n"
     ]
    }
   ],
   "source": [
    "from sklearn.model_selection import cross_val_score\n",
    "b = cross_val_score(clf2 , X_train , y_train , cv=3 , scoring=\"accuracy\")"
   ]
  },
  {
   "cell_type": "code",
   "execution_count": 49,
   "metadata": {},
   "outputs": [
    {
     "data": {
      "text/plain": [
       "0.76123121252494"
      ]
     },
     "execution_count": 49,
     "metadata": {},
     "output_type": "execute_result"
    }
   ],
   "source": [
    "b.mean()"
   ]
  },
  {
   "cell_type": "code",
   "execution_count": 50,
   "metadata": {},
   "outputs": [
    {
     "name": "stderr",
     "output_type": "stream",
     "text": [
      "C:\\Users\\Keyur Chaudhari\\anaconda3\\py\\lib\\site-packages\\sklearn\\linear_model\\_logistic.py:762: ConvergenceWarning: lbfgs failed to converge (status=1):\n",
      "STOP: TOTAL NO. of ITERATIONS REACHED LIMIT.\n",
      "\n",
      "Increase the number of iterations (max_iter) or scale the data as shown in:\n",
      "    https://scikit-learn.org/stable/modules/preprocessing.html\n",
      "Please also refer to the documentation for alternative solver options:\n",
      "    https://scikit-learn.org/stable/modules/linear_model.html#logistic-regression\n",
      "  n_iter_i = _check_optimize_result(\n",
      "C:\\Users\\Keyur Chaudhari\\anaconda3\\py\\lib\\site-packages\\sklearn\\linear_model\\_logistic.py:762: ConvergenceWarning: lbfgs failed to converge (status=1):\n",
      "STOP: TOTAL NO. of ITERATIONS REACHED LIMIT.\n",
      "\n",
      "Increase the number of iterations (max_iter) or scale the data as shown in:\n",
      "    https://scikit-learn.org/stable/modules/preprocessing.html\n",
      "Please also refer to the documentation for alternative solver options:\n",
      "    https://scikit-learn.org/stable/modules/linear_model.html#logistic-regression\n",
      "  n_iter_i = _check_optimize_result(\n",
      "C:\\Users\\Keyur Chaudhari\\anaconda3\\py\\lib\\site-packages\\sklearn\\linear_model\\_logistic.py:762: ConvergenceWarning: lbfgs failed to converge (status=1):\n",
      "STOP: TOTAL NO. of ITERATIONS REACHED LIMIT.\n",
      "\n",
      "Increase the number of iterations (max_iter) or scale the data as shown in:\n",
      "    https://scikit-learn.org/stable/modules/preprocessing.html\n",
      "Please also refer to the documentation for alternative solver options:\n",
      "    https://scikit-learn.org/stable/modules/linear_model.html#logistic-regression\n",
      "  n_iter_i = _check_optimize_result(\n"
     ]
    }
   ],
   "source": [
    "from sklearn.model_selection import cross_val_predict\n",
    "y_test_predict = cross_val_predict(clf2 , X_train , y_train , cv=3 )"
   ]
  },
  {
   "cell_type": "code",
   "execution_count": 51,
   "metadata": {},
   "outputs": [
    {
     "data": {
      "text/plain": [
       "array([1, 1, 1, ..., 1, 1, 1], dtype=int64)"
      ]
     },
     "execution_count": 51,
     "metadata": {},
     "output_type": "execute_result"
    }
   ],
   "source": [
    "y_test_predict"
   ]
  },
  {
   "cell_type": "code",
   "execution_count": 52,
   "metadata": {},
   "outputs": [
    {
     "name": "stdout",
     "output_type": "stream",
     "text": [
      "[1 1 1 ... 1 1 1]\n"
     ]
    }
   ],
   "source": [
    "print(y_test_predict)"
   ]
  },
  {
   "cell_type": "code",
   "execution_count": 362,
   "metadata": {},
   "outputs": [],
   "source": [
    "from sklearn.metrics import precision_score , recall_score"
   ]
  },
  {
   "cell_type": "code",
   "execution_count": 363,
   "metadata": {},
   "outputs": [
    {
     "data": {
      "text/plain": [
       "0.993105093124607"
      ]
     },
     "execution_count": 363,
     "metadata": {},
     "output_type": "execute_result"
    }
   ],
   "source": [
    " precision_score( y_test_predict , y_train)"
   ]
  },
  {
   "cell_type": "code",
   "execution_count": 364,
   "metadata": {},
   "outputs": [
    {
     "data": {
      "text/plain": [
       "0.7635614976827927"
      ]
     },
     "execution_count": 364,
     "metadata": {},
     "output_type": "execute_result"
    }
   ],
   "source": [
    " recall_score( y_test_predict , y_train)"
   ]
  },
  {
   "cell_type": "code",
   "execution_count": 365,
   "metadata": {},
   "outputs": [],
   "source": [
    "from sklearn.metrics import f1_score"
   ]
  },
  {
   "cell_type": "code",
   "execution_count": 366,
   "metadata": {},
   "outputs": [
    {
     "data": {
      "text/plain": [
       "0.8633360664235159"
      ]
     },
     "execution_count": 366,
     "metadata": {},
     "output_type": "execute_result"
    }
   ],
   "source": [
    "f1_score(y_train , y_test_predict)"
   ]
  },
  {
   "cell_type": "code",
   "execution_count": 367,
   "metadata": {},
   "outputs": [],
   "source": [
    "predicted_target = pd.DataFrame(y_test_predict )"
   ]
  },
  {
   "cell_type": "code",
   "execution_count": 368,
   "metadata": {},
   "outputs": [
    {
     "data": {
      "text/html": [
       "<div>\n",
       "<style scoped>\n",
       "    .dataframe tbody tr th:only-of-type {\n",
       "        vertical-align: middle;\n",
       "    }\n",
       "\n",
       "    .dataframe tbody tr th {\n",
       "        vertical-align: top;\n",
       "    }\n",
       "\n",
       "    .dataframe thead th {\n",
       "        text-align: right;\n",
       "    }\n",
       "</style>\n",
       "<table border=\"1\" class=\"dataframe\">\n",
       "  <thead>\n",
       "    <tr style=\"text-align: right;\">\n",
       "      <th></th>\n",
       "      <th>0</th>\n",
       "    </tr>\n",
       "  </thead>\n",
       "  <tbody>\n",
       "    <tr>\n",
       "      <th>0</th>\n",
       "      <td>1</td>\n",
       "    </tr>\n",
       "    <tr>\n",
       "      <th>1</th>\n",
       "      <td>1</td>\n",
       "    </tr>\n",
       "    <tr>\n",
       "      <th>2</th>\n",
       "      <td>1</td>\n",
       "    </tr>\n",
       "    <tr>\n",
       "      <th>3</th>\n",
       "      <td>1</td>\n",
       "    </tr>\n",
       "    <tr>\n",
       "      <th>4</th>\n",
       "      <td>1</td>\n",
       "    </tr>\n",
       "    <tr>\n",
       "      <th>...</th>\n",
       "      <td>...</td>\n",
       "    </tr>\n",
       "    <tr>\n",
       "      <th>60585</th>\n",
       "      <td>1</td>\n",
       "    </tr>\n",
       "    <tr>\n",
       "      <th>60586</th>\n",
       "      <td>1</td>\n",
       "    </tr>\n",
       "    <tr>\n",
       "      <th>60587</th>\n",
       "      <td>1</td>\n",
       "    </tr>\n",
       "    <tr>\n",
       "      <th>60588</th>\n",
       "      <td>1</td>\n",
       "    </tr>\n",
       "    <tr>\n",
       "      <th>60589</th>\n",
       "      <td>1</td>\n",
       "    </tr>\n",
       "  </tbody>\n",
       "</table>\n",
       "<p>60590 rows × 1 columns</p>\n",
       "</div>"
      ],
      "text/plain": [
       "       0\n",
       "0      1\n",
       "1      1\n",
       "2      1\n",
       "3      1\n",
       "4      1\n",
       "...   ..\n",
       "60585  1\n",
       "60586  1\n",
       "60587  1\n",
       "60588  1\n",
       "60589  1\n",
       "\n",
       "[60590 rows x 1 columns]"
      ]
     },
     "execution_count": 368,
     "metadata": {},
     "output_type": "execute_result"
    }
   ],
   "source": [
    "predicted_target"
   ]
  },
  {
   "cell_type": "code",
   "execution_count": 369,
   "metadata": {},
   "outputs": [],
   "source": [
    "target2.to_csv('target_pred.csv', header=False, index=False)"
   ]
  },
  {
   "cell_type": "code",
   "execution_count": 410,
   "metadata": {},
   "outputs": [],
   "source": [
    "\n",
    "from sklearn.naive_bayes import GaussianNB\n",
    "\n",
    "#Create a Gaussian Classifier\n",
    "gnb = GaussianNB()\n",
    "\n",
    "#Train the model using the training sets\n",
    "gnb.fit(X_train, y_train)\n",
    "\n",
    "#Predict the response for test dataset\n",
    "y_predd = gnb.predict(X_test)"
   ]
  },
  {
   "cell_type": "code",
   "execution_count": 411,
   "metadata": {},
   "outputs": [],
   "source": [
    "from sklearn.model_selection import cross_val_score\n",
    "c = cross_val_score(gnb , X_train , y_train , cv=3 , scoring=\"accuracy\")"
   ]
  },
  {
   "cell_type": "code",
   "execution_count": 412,
   "metadata": {},
   "outputs": [
    {
     "data": {
      "text/plain": [
       "0.5880342008453153"
      ]
     },
     "execution_count": 412,
     "metadata": {},
     "output_type": "execute_result"
    }
   ],
   "source": [
    "c.mean()"
   ]
  },
  {
   "cell_type": "code",
   "execution_count": 414,
   "metadata": {},
   "outputs": [],
   "source": [
    "targett = pd.DataFrame(y_predd)"
   ]
  },
  {
   "cell_type": "code",
   "execution_count": 415,
   "metadata": {},
   "outputs": [],
   "source": [
    "targett.to_csv('target_predddd.csv', header=False, index=False)"
   ]
  },
  {
   "cell_type": "code",
   "execution_count": 439,
   "metadata": {},
   "outputs": [
    {
     "data": {
      "text/plain": [
       "RandomForestClassifier(criterion='entropy', n_jobs=1, random_state=1)"
      ]
     },
     "execution_count": 439,
     "metadata": {},
     "output_type": "execute_result"
    }
   ],
   "source": [
    "from sklearn.ensemble import RandomForestClassifier  \n",
    "classifier= RandomForestClassifier(n_estimators= 100, criterion=\"entropy\",n_jobs = 1,random_state =1)  \n",
    "classifier.fit(X_train, y_train)    "
   ]
  },
  {
   "cell_type": "code",
   "execution_count": 440,
   "metadata": {},
   "outputs": [],
   "source": [
    "yp_prd = classifier.predict(X_test)"
   ]
  },
  {
   "cell_type": "code",
   "execution_count": 441,
   "metadata": {},
   "outputs": [],
   "source": [
    "from sklearn.model_selection import cross_val_score\n",
    "cd = cross_val_score(classifier , X_train , y_train , cv=3 , scoring=\"accuracy\")"
   ]
  },
  {
   "cell_type": "code",
   "execution_count": 442,
   "metadata": {},
   "outputs": [
    {
     "data": {
      "text/plain": [
       "0.7769103514380187"
      ]
     },
     "execution_count": 442,
     "metadata": {},
     "output_type": "execute_result"
    }
   ],
   "source": [
    "cd.mean()"
   ]
  },
  {
   "cell_type": "code",
   "execution_count": 446,
   "metadata": {},
   "outputs": [],
   "source": [
    "targettt = pd.DataFrame(yp_prd)"
   ]
  },
  {
   "cell_type": "code",
   "execution_count": 447,
   "metadata": {},
   "outputs": [],
   "source": [
    "targettt.to_csv('target_pd.csv', header=False, index=False)"
   ]
  },
  {
   "cell_type": "code",
   "execution_count": null,
   "metadata": {},
   "outputs": [],
   "source": []
  },
  {
   "cell_type": "code",
   "execution_count": null,
   "metadata": {},
   "outputs": [],
   "source": [
    "\n"
   ]
  },
  {
   "cell_type": "code",
   "execution_count": null,
   "metadata": {},
   "outputs": [],
   "source": []
  },
  {
   "cell_type": "code",
   "execution_count": null,
   "metadata": {},
   "outputs": [],
   "source": []
  },
  {
   "cell_type": "code",
   "execution_count": null,
   "metadata": {},
   "outputs": [],
   "source": []
  }
 ],
 "metadata": {
  "kernelspec": {
   "display_name": "Python 3",
   "language": "python",
   "name": "python3"
  },
  "language_info": {
   "codemirror_mode": {
    "name": "ipython",
    "version": 3
   },
   "file_extension": ".py",
   "mimetype": "text/x-python",
   "name": "python",
   "nbconvert_exporter": "python",
   "pygments_lexer": "ipython3",
   "version": "3.8.3"
  }
 },
 "nbformat": 4,
 "nbformat_minor": 4
}
